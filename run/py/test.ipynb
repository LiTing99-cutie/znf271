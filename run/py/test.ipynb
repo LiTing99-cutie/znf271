{
 "cells": [
  {
   "cell_type": "code",
   "execution_count": null,
   "metadata": {},
   "outputs": [],
   "source": []
  }
 ],
 "metadata": {
  "kernelspec": {
   "display_name": "Python 3.9.12 ('base')",
   "language": "python",
   "name": "python3"
  },
  "language_info": {
   "name": "python",
   "version": "3.9.12"
  },
  "orig_nbformat": 4,
  "vscode": {
   "interpreter": {
    "hash": "1e3ad77942fdef4621b0be490c85b75e1ae7b38543357fd83bce7958fcda298c"
   }
  }
 },
 "nbformat": 4,
 "nbformat_minor": 2
}
