{
 "cells": [
  {
   "cell_type": "markdown",
   "metadata": {},
   "source": [
    "# import packages"
   ]
  },
  {
   "cell_type": "code",
   "execution_count": 1,
   "metadata": {},
   "outputs": [
    {
     "data": {
      "text/plain": [
       "'1.9.2'"
      ]
     },
     "execution_count": 1,
     "metadata": {},
     "output_type": "execute_result"
    }
   ],
   "source": [
    "import pandas as pd\n",
    "import scipy.stats as ss\n",
    "from IPython.core.interactiveshell import InteractiveShell\n",
    "InteractiveShell.ast_node_interactivity='all'\n",
    "import scipy\n",
    "scipy.__version__"
   ]
  },
  {
   "cell_type": "markdown",
   "metadata": {},
   "source": [
    "# read rpkm calculated by stringtie"
   ]
  },
  {
   "cell_type": "code",
   "execution_count": 41,
   "metadata": {},
   "outputs": [],
   "source": [
    "rpkm=pd.read_csv(\"/home/user/data2/lit/project/ZNF271/02-APA/analysis/stringtie_whole_genome/stringtie.rpkm.txt\",sep='\\t',header=None)"
   ]
  },
  {
   "cell_type": "markdown",
   "metadata": {},
   "source": [
    "# read metadata,fragmentation score,period"
   ]
  },
  {
   "cell_type": "code",
   "execution_count": 42,
   "metadata": {},
   "outputs": [
    {
     "data": {
      "text/html": [
       "<div>\n",
       "<style scoped>\n",
       "    .dataframe tbody tr th:only-of-type {\n",
       "        vertical-align: middle;\n",
       "    }\n",
       "\n",
       "    .dataframe tbody tr th {\n",
       "        vertical-align: top;\n",
       "    }\n",
       "\n",
       "    .dataframe thead th {\n",
       "        text-align: right;\n",
       "    }\n",
       "</style>\n",
       "<table border=\"1\" class=\"dataframe\">\n",
       "  <thead>\n",
       "    <tr style=\"text-align: right;\">\n",
       "      <th></th>\n",
       "      <th>sample</th>\n",
       "      <th>Sex</th>\n",
       "      <th>Developmental_Stage</th>\n",
       "      <th>Age</th>\n",
       "      <th>Unit</th>\n",
       "      <th>organism</th>\n",
       "    </tr>\n",
       "  </thead>\n",
       "  <tbody>\n",
       "    <tr>\n",
       "      <th>0</th>\n",
       "      <td>1988sTS.Human.Testis.10w.Male</td>\n",
       "      <td>male</td>\n",
       "      <td>10 pcw</td>\n",
       "      <td>10</td>\n",
       "      <td>week</td>\n",
       "      <td>testis</td>\n",
       "    </tr>\n",
       "    <tr>\n",
       "      <th>1</th>\n",
       "      <td>2024sTSb.Human.Heart.10w.Male</td>\n",
       "      <td>male</td>\n",
       "      <td>10 pcw</td>\n",
       "      <td>10</td>\n",
       "      <td>week</td>\n",
       "      <td>heart</td>\n",
       "    </tr>\n",
       "    <tr>\n",
       "      <th>2</th>\n",
       "      <td>2025sTSb.Human.Liver.10w.Male</td>\n",
       "      <td>male</td>\n",
       "      <td>10 pcw</td>\n",
       "      <td>10</td>\n",
       "      <td>week</td>\n",
       "      <td>liver</td>\n",
       "    </tr>\n",
       "    <tr>\n",
       "      <th>3</th>\n",
       "      <td>2092sTS.Human.Heart.10w.Female</td>\n",
       "      <td>female</td>\n",
       "      <td>10 pcw</td>\n",
       "      <td>10</td>\n",
       "      <td>week</td>\n",
       "      <td>heart</td>\n",
       "    </tr>\n",
       "    <tr>\n",
       "      <th>4</th>\n",
       "      <td>2094sTS.Human.Liver.10w.Female</td>\n",
       "      <td>female</td>\n",
       "      <td>10 pcw</td>\n",
       "      <td>10</td>\n",
       "      <td>week</td>\n",
       "      <td>liver</td>\n",
       "    </tr>\n",
       "  </tbody>\n",
       "</table>\n",
       "</div>"
      ],
      "text/plain": [
       "                           sample     Sex Developmental_Stage  Age  Unit  \\\n",
       "0   1988sTS.Human.Testis.10w.Male    male              10 pcw   10  week   \n",
       "1   2024sTSb.Human.Heart.10w.Male    male              10 pcw   10  week   \n",
       "2   2025sTSb.Human.Liver.10w.Male    male              10 pcw   10  week   \n",
       "3  2092sTS.Human.Heart.10w.Female  female              10 pcw   10  week   \n",
       "4  2094sTS.Human.Liver.10w.Female  female              10 pcw   10  week   \n",
       "\n",
       "  organism  \n",
       "0   testis  \n",
       "1    heart  \n",
       "2    liver  \n",
       "3    heart  \n",
       "4    liver  "
      ]
     },
     "execution_count": 42,
     "metadata": {},
     "output_type": "execute_result"
    },
    {
     "data": {
      "text/html": [
       "<div>\n",
       "<style scoped>\n",
       "    .dataframe tbody tr th:only-of-type {\n",
       "        vertical-align: middle;\n",
       "    }\n",
       "\n",
       "    .dataframe tbody tr th {\n",
       "        vertical-align: top;\n",
       "    }\n",
       "\n",
       "    .dataframe thead th {\n",
       "        text-align: right;\n",
       "    }\n",
       "</style>\n",
       "<table border=\"1\" class=\"dataframe\">\n",
       "  <thead>\n",
       "    <tr style=\"text-align: right;\">\n",
       "      <th></th>\n",
       "      <th>sample</th>\n",
       "      <th>frag_score</th>\n",
       "    </tr>\n",
       "  </thead>\n",
       "  <tbody>\n",
       "    <tr>\n",
       "      <th>0</th>\n",
       "      <td>2026sTSm.Human.Forebrain.CS21.Male</td>\n",
       "      <td>0.879879</td>\n",
       "    </tr>\n",
       "    <tr>\n",
       "      <th>1</th>\n",
       "      <td>2029sTSb.Human.Hindbrain.CS21.Male</td>\n",
       "      <td>0.860425</td>\n",
       "    </tr>\n",
       "    <tr>\n",
       "      <th>2</th>\n",
       "      <td>2031sTS.Human.Hindbrain.CS22.Male</td>\n",
       "      <td>0.860896</td>\n",
       "    </tr>\n",
       "    <tr>\n",
       "      <th>3</th>\n",
       "      <td>2033sTS.Human.Hindbrain.CS22.Female</td>\n",
       "      <td>0.890121</td>\n",
       "    </tr>\n",
       "    <tr>\n",
       "      <th>4</th>\n",
       "      <td>2034sTS.Human.Forebrain.CS22.Female</td>\n",
       "      <td>0.883731</td>\n",
       "    </tr>\n",
       "  </tbody>\n",
       "</table>\n",
       "</div>"
      ],
      "text/plain": [
       "                                sample  frag_score\n",
       "0   2026sTSm.Human.Forebrain.CS21.Male    0.879879\n",
       "1   2029sTSb.Human.Hindbrain.CS21.Male    0.860425\n",
       "2    2031sTS.Human.Hindbrain.CS22.Male    0.860896\n",
       "3  2033sTS.Human.Hindbrain.CS22.Female    0.890121\n",
       "4  2034sTS.Human.Forebrain.CS22.Female    0.883731"
      ]
     },
     "execution_count": 42,
     "metadata": {},
     "output_type": "execute_result"
    },
    {
     "data": {
      "text/html": [
       "<div>\n",
       "<style scoped>\n",
       "    .dataframe tbody tr th:only-of-type {\n",
       "        vertical-align: middle;\n",
       "    }\n",
       "\n",
       "    .dataframe tbody tr th {\n",
       "        vertical-align: top;\n",
       "    }\n",
       "\n",
       "    .dataframe thead th {\n",
       "        text-align: right;\n",
       "    }\n",
       "</style>\n",
       "<table border=\"1\" class=\"dataframe\">\n",
       "  <thead>\n",
       "    <tr style=\"text-align: right;\">\n",
       "      <th></th>\n",
       "      <th>Developmental_Stage</th>\n",
       "      <th>period</th>\n",
       "      <th>period.abbre</th>\n",
       "      <th>period.abbre.abbre</th>\n",
       "    </tr>\n",
       "  </thead>\n",
       "  <tbody>\n",
       "    <tr>\n",
       "      <th>0</th>\n",
       "      <td>4 pcw</td>\n",
       "      <td>Embryonic</td>\n",
       "      <td>Embryonic</td>\n",
       "      <td>Before birth</td>\n",
       "    </tr>\n",
       "    <tr>\n",
       "      <th>1</th>\n",
       "      <td>5 pcw</td>\n",
       "      <td>Embryonic</td>\n",
       "      <td>Embryonic</td>\n",
       "      <td>Before birth</td>\n",
       "    </tr>\n",
       "    <tr>\n",
       "      <th>2</th>\n",
       "      <td>6 pcw</td>\n",
       "      <td>Embryonic</td>\n",
       "      <td>Embryonic</td>\n",
       "      <td>Before birth</td>\n",
       "    </tr>\n",
       "    <tr>\n",
       "      <th>3</th>\n",
       "      <td>7 pcw</td>\n",
       "      <td>Embryonic</td>\n",
       "      <td>Embryonic</td>\n",
       "      <td>Before birth</td>\n",
       "    </tr>\n",
       "    <tr>\n",
       "      <th>4</th>\n",
       "      <td>8 pcw</td>\n",
       "      <td>Early fetal</td>\n",
       "      <td>Fetal</td>\n",
       "      <td>Before birth</td>\n",
       "    </tr>\n",
       "  </tbody>\n",
       "</table>\n",
       "</div>"
      ],
      "text/plain": [
       "  Developmental_Stage       period period.abbre period.abbre.abbre\n",
       "0               4 pcw    Embryonic    Embryonic       Before birth\n",
       "1               5 pcw    Embryonic    Embryonic       Before birth\n",
       "2               6 pcw    Embryonic    Embryonic       Before birth\n",
       "3               7 pcw    Embryonic    Embryonic       Before birth\n",
       "4               8 pcw  Early fetal        Fetal       Before birth"
      ]
     },
     "execution_count": 42,
     "metadata": {},
     "output_type": "execute_result"
    }
   ],
   "source": [
    "metadata=pd.read_csv(\"/home/user/data/lit/project/ZNF271/data/rna-seq/brain/metadata.txt\",sep='\\t')\n",
    "frag_score=pd.read_csv(\"/home/user/data/lit/project/ZNF271/data/rna-seq/brain/frag_score.txt\",sep='\\t')\n",
    "period=pd.read_csv(\"/home/user/data/lit/project/ZNF271/data/rna-seq/brain/period.txt\",sep='\\t')\n",
    "metadata.head()\n",
    "frag_score.head()\n",
    "period.head()"
   ]
  },
  {
   "cell_type": "markdown",
   "metadata": {},
   "source": [
    "# read gene list"
   ]
  },
  {
   "cell_type": "code",
   "execution_count": 43,
   "metadata": {},
   "outputs": [
    {
     "data": {
      "text/plain": [
       "6457"
      ]
     },
     "execution_count": 43,
     "metadata": {},
     "output_type": "execute_result"
    }
   ],
   "source": [
    "t_exon_g_l=pd.read_csv(\"/home/user/data2/lit/project/ZNF271/02-APA/terminal_exon.gene.lst\",sep='\\t',header=None)\n",
    "t_exon_g_l.columns=['gene_id']\n",
    "len(t_exon_g_l)"
   ]
  },
  {
   "cell_type": "markdown",
   "metadata": {},
   "source": [
    "# rpkm_proximal and rpkm_distal"
   ]
  },
  {
   "cell_type": "code",
   "execution_count": 44,
   "metadata": {},
   "outputs": [
    {
     "data": {
      "text/plain": [
       "736098"
      ]
     },
     "execution_count": 44,
     "metadata": {},
     "output_type": "execute_result"
    },
    {
     "data": {
      "text/plain": [
       "736098"
      ]
     },
     "execution_count": 44,
     "metadata": {},
     "output_type": "execute_result"
    }
   ],
   "source": [
    "rpkm.columns=[\"type\",\"gene_id\",\"rpkm\",\"sample\"]\n",
    "rpkm_pro=rpkm.query(\"type.str.contains('proximal')\")\n",
    "rpkm_pro.columns=[\"type\",\"gene_id\",\"rpkm_pro\",\"sample\"]\n",
    "rpkm_dis=rpkm.query(\"type.str.contains('distal')\")\n",
    "rpkm_dis.columns=[\"type\",\"gene_id\",\"rpkm_dis\",\"sample\"]\n",
    "len(rpkm_pro)\n",
    "len(rpkm_dis)\n"
   ]
  },
  {
   "cell_type": "markdown",
   "metadata": {},
   "source": [
    "# same order"
   ]
  },
  {
   "cell_type": "code",
   "execution_count": 45,
   "metadata": {},
   "outputs": [
    {
     "data": {
      "text/plain": [
       "736098"
      ]
     },
     "execution_count": 45,
     "metadata": {},
     "output_type": "execute_result"
    },
    {
     "data": {
      "text/plain": [
       "736098"
      ]
     },
     "execution_count": 45,
     "metadata": {},
     "output_type": "execute_result"
    }
   ],
   "source": [
    "rpkm_pro_s=rpkm_pro.sort_values(by=[\"gene_id\",\"sample\"]).reset_index()\n",
    "len(rpkm_pro_s)\n",
    "rpkm_dis_s=rpkm_dis.sort_values(by=[\"gene_id\",\"sample\"]).reset_index()\n",
    "len(rpkm_dis_s)\n"
   ]
  },
  {
   "cell_type": "markdown",
   "metadata": {},
   "source": [
    "# pau"
   ]
  },
  {
   "cell_type": "code",
   "execution_count": 46,
   "metadata": {},
   "outputs": [
    {
     "data": {
      "text/html": [
       "<div>\n",
       "<style scoped>\n",
       "    .dataframe tbody tr th:only-of-type {\n",
       "        vertical-align: middle;\n",
       "    }\n",
       "\n",
       "    .dataframe tbody tr th {\n",
       "        vertical-align: top;\n",
       "    }\n",
       "\n",
       "    .dataframe thead th {\n",
       "        text-align: right;\n",
       "    }\n",
       "</style>\n",
       "<table border=\"1\" class=\"dataframe\">\n",
       "  <thead>\n",
       "    <tr style=\"text-align: right;\">\n",
       "      <th></th>\n",
       "      <th>pau</th>\n",
       "      <th>sample</th>\n",
       "      <th>gene_id</th>\n",
       "    </tr>\n",
       "  </thead>\n",
       "  <tbody>\n",
       "    <tr>\n",
       "      <th>0</th>\n",
       "      <td>0.501881</td>\n",
       "      <td>2026sTSm.Human.Forebrain.CS21.Male</td>\n",
       "      <td>ENSG00000000419.14</td>\n",
       "    </tr>\n",
       "    <tr>\n",
       "      <th>1</th>\n",
       "      <td>0.487624</td>\n",
       "      <td>2029sTSb.Human.Hindbrain.CS21.Male</td>\n",
       "      <td>ENSG00000000419.14</td>\n",
       "    </tr>\n",
       "    <tr>\n",
       "      <th>2</th>\n",
       "      <td>0.564363</td>\n",
       "      <td>2031sTS.Human.Hindbrain.CS22.Male</td>\n",
       "      <td>ENSG00000000419.14</td>\n",
       "    </tr>\n",
       "    <tr>\n",
       "      <th>3</th>\n",
       "      <td>0.350359</td>\n",
       "      <td>2033sTS.Human.Hindbrain.CS22.Female</td>\n",
       "      <td>ENSG00000000419.14</td>\n",
       "    </tr>\n",
       "    <tr>\n",
       "      <th>4</th>\n",
       "      <td>0.368783</td>\n",
       "      <td>2034sTS.Human.Forebrain.CS22.Female</td>\n",
       "      <td>ENSG00000000419.14</td>\n",
       "    </tr>\n",
       "  </tbody>\n",
       "</table>\n",
       "</div>"
      ],
      "text/plain": [
       "        pau                               sample             gene_id\n",
       "0  0.501881   2026sTSm.Human.Forebrain.CS21.Male  ENSG00000000419.14\n",
       "1  0.487624   2029sTSb.Human.Hindbrain.CS21.Male  ENSG00000000419.14\n",
       "2  0.564363    2031sTS.Human.Hindbrain.CS22.Male  ENSG00000000419.14\n",
       "3  0.350359  2033sTS.Human.Hindbrain.CS22.Female  ENSG00000000419.14\n",
       "4  0.368783  2034sTS.Human.Forebrain.CS22.Female  ENSG00000000419.14"
      ]
     },
     "execution_count": 46,
     "metadata": {},
     "output_type": "execute_result"
    }
   ],
   "source": [
    "pau=pd.DataFrame(\n",
    "    data={\n",
    "        \"pau\" : rpkm_dis_s[\"rpkm_dis\"] / rpkm_pro_s[\"rpkm_pro\"],\n",
    "        \"sample\" : rpkm_dis_s[\"sample\"],\n",
    "        \"gene_id\" : rpkm_dis_s[\"gene_id\"]\n",
    "    }\n",
    ")\n",
    "pau.head()"
   ]
  },
  {
   "cell_type": "markdown",
   "metadata": {},
   "source": [
    "# filter samples based on fragmentation score "
   ]
  },
  {
   "cell_type": "code",
   "execution_count": 47,
   "metadata": {},
   "outputs": [
    {
     "data": {
      "text/html": [
       "<div>\n",
       "<style scoped>\n",
       "    .dataframe tbody tr th:only-of-type {\n",
       "        vertical-align: middle;\n",
       "    }\n",
       "\n",
       "    .dataframe tbody tr th {\n",
       "        vertical-align: top;\n",
       "    }\n",
       "\n",
       "    .dataframe thead th {\n",
       "        text-align: right;\n",
       "    }\n",
       "</style>\n",
       "<table border=\"1\" class=\"dataframe\">\n",
       "  <thead>\n",
       "    <tr style=\"text-align: right;\">\n",
       "      <th></th>\n",
       "      <th>sample</th>\n",
       "      <th>Sex</th>\n",
       "      <th>Developmental_Stage</th>\n",
       "      <th>Age</th>\n",
       "      <th>Unit</th>\n",
       "      <th>organism</th>\n",
       "      <th>frag_score</th>\n",
       "      <th>period</th>\n",
       "      <th>period.abbre</th>\n",
       "      <th>period.abbre.abbre</th>\n",
       "    </tr>\n",
       "  </thead>\n",
       "  <tbody>\n",
       "    <tr>\n",
       "      <th>0</th>\n",
       "      <td>2033sTS.Human.Hindbrain.CS22.Female</td>\n",
       "      <td>female</td>\n",
       "      <td>8 pcw</td>\n",
       "      <td>8</td>\n",
       "      <td>week</td>\n",
       "      <td>hindbrain</td>\n",
       "      <td>0.890121</td>\n",
       "      <td>Early fetal</td>\n",
       "      <td>Fetal</td>\n",
       "      <td>Before birth</td>\n",
       "    </tr>\n",
       "    <tr>\n",
       "      <th>1</th>\n",
       "      <td>2035sTSm.Human.Forebrain.8w.Male</td>\n",
       "      <td>male</td>\n",
       "      <td>8 pcw</td>\n",
       "      <td>8</td>\n",
       "      <td>week</td>\n",
       "      <td>forebrain</td>\n",
       "      <td>0.893695</td>\n",
       "      <td>Early fetal</td>\n",
       "      <td>Fetal</td>\n",
       "      <td>Before birth</td>\n",
       "    </tr>\n",
       "    <tr>\n",
       "      <th>2</th>\n",
       "      <td>2036sTSm.Human.Hindbrain.8w.Male</td>\n",
       "      <td>male</td>\n",
       "      <td>8 pcw</td>\n",
       "      <td>8</td>\n",
       "      <td>week</td>\n",
       "      <td>hindbrain</td>\n",
       "      <td>0.885023</td>\n",
       "      <td>Early fetal</td>\n",
       "      <td>Fetal</td>\n",
       "      <td>Before birth</td>\n",
       "    </tr>\n",
       "    <tr>\n",
       "      <th>3</th>\n",
       "      <td>2080sTS.Human.Brain.CS23.Male</td>\n",
       "      <td>male</td>\n",
       "      <td>8 pcw</td>\n",
       "      <td>8</td>\n",
       "      <td>week</td>\n",
       "      <td>forebrain</td>\n",
       "      <td>0.892380</td>\n",
       "      <td>Early fetal</td>\n",
       "      <td>Fetal</td>\n",
       "      <td>Before birth</td>\n",
       "    </tr>\n",
       "    <tr>\n",
       "      <th>4</th>\n",
       "      <td>2082sTSb.Human.Hindbrain.CS23.Female</td>\n",
       "      <td>female</td>\n",
       "      <td>8 pcw</td>\n",
       "      <td>8</td>\n",
       "      <td>week</td>\n",
       "      <td>hindbrain</td>\n",
       "      <td>0.890298</td>\n",
       "      <td>Early fetal</td>\n",
       "      <td>Fetal</td>\n",
       "      <td>Before birth</td>\n",
       "    </tr>\n",
       "  </tbody>\n",
       "</table>\n",
       "</div>"
      ],
      "text/plain": [
       "                                 sample     Sex Developmental_Stage  Age  \\\n",
       "0   2033sTS.Human.Hindbrain.CS22.Female  female               8 pcw    8   \n",
       "1      2035sTSm.Human.Forebrain.8w.Male    male               8 pcw    8   \n",
       "2      2036sTSm.Human.Hindbrain.8w.Male    male               8 pcw    8   \n",
       "3         2080sTS.Human.Brain.CS23.Male    male               8 pcw    8   \n",
       "4  2082sTSb.Human.Hindbrain.CS23.Female  female               8 pcw    8   \n",
       "\n",
       "   Unit   organism  frag_score       period period.abbre period.abbre.abbre  \n",
       "0  week  hindbrain    0.890121  Early fetal        Fetal       Before birth  \n",
       "1  week  forebrain    0.893695  Early fetal        Fetal       Before birth  \n",
       "2  week  hindbrain    0.885023  Early fetal        Fetal       Before birth  \n",
       "3  week  forebrain    0.892380  Early fetal        Fetal       Before birth  \n",
       "4  week  hindbrain    0.890298  Early fetal        Fetal       Before birth  "
      ]
     },
     "execution_count": 47,
     "metadata": {},
     "output_type": "execute_result"
    }
   ],
   "source": [
    "tmp=pd.merge(metadata,frag_score,on=\"sample\",how='right')\n",
    "md_fil=tmp[tmp.frag_score>0.885]\n",
    "md_fil_p=pd.merge(md_fil,period,on=\"Developmental_Stage\")\n",
    "md_fil_p.head()"
   ]
  },
  {
   "cell_type": "markdown",
   "metadata": {},
   "source": [
    "# merge and filter lowly expressed samples"
   ]
  },
  {
   "cell_type": "code",
   "execution_count": 48,
   "metadata": {},
   "outputs": [
    {
     "data": {
      "text/plain": [
       "285451"
      ]
     },
     "execution_count": 48,
     "metadata": {},
     "output_type": "execute_result"
    },
    {
     "data": {
      "text/html": [
       "<div>\n",
       "<style scoped>\n",
       "    .dataframe tbody tr th:only-of-type {\n",
       "        vertical-align: middle;\n",
       "    }\n",
       "\n",
       "    .dataframe tbody tr th {\n",
       "        vertical-align: top;\n",
       "    }\n",
       "\n",
       "    .dataframe thead th {\n",
       "        text-align: right;\n",
       "    }\n",
       "</style>\n",
       "<table border=\"1\" class=\"dataframe\">\n",
       "  <thead>\n",
       "    <tr style=\"text-align: right;\">\n",
       "      <th></th>\n",
       "      <th>index_x</th>\n",
       "      <th>type_x</th>\n",
       "      <th>gene_id</th>\n",
       "      <th>rpkm_dis</th>\n",
       "      <th>sample</th>\n",
       "      <th>index_y</th>\n",
       "      <th>type_y</th>\n",
       "      <th>rpkm_pro</th>\n",
       "      <th>pau</th>\n",
       "      <th>Sex</th>\n",
       "      <th>Developmental_Stage</th>\n",
       "      <th>Age</th>\n",
       "      <th>Unit</th>\n",
       "      <th>organism</th>\n",
       "      <th>frag_score</th>\n",
       "      <th>period</th>\n",
       "      <th>period.abbre</th>\n",
       "      <th>period.abbre.abbre</th>\n",
       "    </tr>\n",
       "  </thead>\n",
       "  <tbody>\n",
       "    <tr>\n",
       "      <th>0</th>\n",
       "      <td>45038</td>\n",
       "      <td>ENSG00000000419.14_distal</td>\n",
       "      <td>ENSG00000000419.14</td>\n",
       "      <td>9.654136</td>\n",
       "      <td>2033sTS.Human.Hindbrain.CS22.Female</td>\n",
       "      <td>45039</td>\n",
       "      <td>ENSG00000000419.14_proximal</td>\n",
       "      <td>27.555012</td>\n",
       "      <td>0.350359</td>\n",
       "      <td>female</td>\n",
       "      <td>8 pcw</td>\n",
       "      <td>8</td>\n",
       "      <td>week</td>\n",
       "      <td>hindbrain</td>\n",
       "      <td>0.890121</td>\n",
       "      <td>Early fetal</td>\n",
       "      <td>Fetal</td>\n",
       "      <td>Before birth</td>\n",
       "    </tr>\n",
       "    <tr>\n",
       "      <th>1</th>\n",
       "      <td>39629</td>\n",
       "      <td>ENSG00000000457.14_distal</td>\n",
       "      <td>ENSG00000000457.14</td>\n",
       "      <td>2.139920</td>\n",
       "      <td>2033sTS.Human.Hindbrain.CS22.Female</td>\n",
       "      <td>39632</td>\n",
       "      <td>ENSG00000000457.14_proximal</td>\n",
       "      <td>3.837943</td>\n",
       "      <td>0.557570</td>\n",
       "      <td>female</td>\n",
       "      <td>8 pcw</td>\n",
       "      <td>8</td>\n",
       "      <td>week</td>\n",
       "      <td>hindbrain</td>\n",
       "      <td>0.890121</td>\n",
       "      <td>Early fetal</td>\n",
       "      <td>Fetal</td>\n",
       "      <td>Before birth</td>\n",
       "    </tr>\n",
       "    <tr>\n",
       "      <th>2</th>\n",
       "      <td>39631</td>\n",
       "      <td>ENSG00000000460.17_distal</td>\n",
       "      <td>ENSG00000000460.17</td>\n",
       "      <td>2.798944</td>\n",
       "      <td>2033sTS.Human.Hindbrain.CS22.Female</td>\n",
       "      <td>39630</td>\n",
       "      <td>ENSG00000000460.17_proximal</td>\n",
       "      <td>2.931922</td>\n",
       "      <td>0.954645</td>\n",
       "      <td>female</td>\n",
       "      <td>8 pcw</td>\n",
       "      <td>8</td>\n",
       "      <td>week</td>\n",
       "      <td>hindbrain</td>\n",
       "      <td>0.890121</td>\n",
       "      <td>Early fetal</td>\n",
       "      <td>Fetal</td>\n",
       "      <td>Before birth</td>\n",
       "    </tr>\n",
       "    <tr>\n",
       "      <th>4</th>\n",
       "      <td>47217</td>\n",
       "      <td>ENSG00000001167.15_distal</td>\n",
       "      <td>ENSG00000001167.15</td>\n",
       "      <td>12.118010</td>\n",
       "      <td>2033sTS.Human.Hindbrain.CS22.Female</td>\n",
       "      <td>47216</td>\n",
       "      <td>ENSG00000001167.15_proximal</td>\n",
       "      <td>12.650916</td>\n",
       "      <td>0.957876</td>\n",
       "      <td>female</td>\n",
       "      <td>8 pcw</td>\n",
       "      <td>8</td>\n",
       "      <td>week</td>\n",
       "      <td>hindbrain</td>\n",
       "      <td>0.890121</td>\n",
       "      <td>Early fetal</td>\n",
       "      <td>Fetal</td>\n",
       "      <td>Before birth</td>\n",
       "    </tr>\n",
       "    <tr>\n",
       "      <th>5</th>\n",
       "      <td>47816</td>\n",
       "      <td>ENSG00000001630.18_distal</td>\n",
       "      <td>ENSG00000001630.18</td>\n",
       "      <td>42.163486</td>\n",
       "      <td>2033sTS.Human.Hindbrain.CS22.Female</td>\n",
       "      <td>47817</td>\n",
       "      <td>ENSG00000001630.18_proximal</td>\n",
       "      <td>43.390690</td>\n",
       "      <td>0.971717</td>\n",
       "      <td>female</td>\n",
       "      <td>8 pcw</td>\n",
       "      <td>8</td>\n",
       "      <td>week</td>\n",
       "      <td>hindbrain</td>\n",
       "      <td>0.890121</td>\n",
       "      <td>Early fetal</td>\n",
       "      <td>Fetal</td>\n",
       "      <td>Before birth</td>\n",
       "    </tr>\n",
       "  </tbody>\n",
       "</table>\n",
       "</div>"
      ],
      "text/plain": [
       "   index_x                     type_x             gene_id   rpkm_dis  \\\n",
       "0    45038  ENSG00000000419.14_distal  ENSG00000000419.14   9.654136   \n",
       "1    39629  ENSG00000000457.14_distal  ENSG00000000457.14   2.139920   \n",
       "2    39631  ENSG00000000460.17_distal  ENSG00000000460.17   2.798944   \n",
       "4    47217  ENSG00000001167.15_distal  ENSG00000001167.15  12.118010   \n",
       "5    47816  ENSG00000001630.18_distal  ENSG00000001630.18  42.163486   \n",
       "\n",
       "                                sample  index_y                       type_y  \\\n",
       "0  2033sTS.Human.Hindbrain.CS22.Female    45039  ENSG00000000419.14_proximal   \n",
       "1  2033sTS.Human.Hindbrain.CS22.Female    39632  ENSG00000000457.14_proximal   \n",
       "2  2033sTS.Human.Hindbrain.CS22.Female    39630  ENSG00000000460.17_proximal   \n",
       "4  2033sTS.Human.Hindbrain.CS22.Female    47216  ENSG00000001167.15_proximal   \n",
       "5  2033sTS.Human.Hindbrain.CS22.Female    47817  ENSG00000001630.18_proximal   \n",
       "\n",
       "    rpkm_pro       pau     Sex Developmental_Stage  Age  Unit   organism  \\\n",
       "0  27.555012  0.350359  female               8 pcw    8  week  hindbrain   \n",
       "1   3.837943  0.557570  female               8 pcw    8  week  hindbrain   \n",
       "2   2.931922  0.954645  female               8 pcw    8  week  hindbrain   \n",
       "4  12.650916  0.957876  female               8 pcw    8  week  hindbrain   \n",
       "5  43.390690  0.971717  female               8 pcw    8  week  hindbrain   \n",
       "\n",
       "   frag_score       period period.abbre period.abbre.abbre  \n",
       "0    0.890121  Early fetal        Fetal       Before birth  \n",
       "1    0.890121  Early fetal        Fetal       Before birth  \n",
       "2    0.890121  Early fetal        Fetal       Before birth  \n",
       "4    0.890121  Early fetal        Fetal       Before birth  \n",
       "5    0.890121  Early fetal        Fetal       Before birth  "
      ]
     },
     "execution_count": 48,
     "metadata": {},
     "output_type": "execute_result"
    }
   ],
   "source": [
    "m1=pd.merge(rpkm_dis_s,rpkm_pro_s,on=[\"gene_id\",\"sample\"])\n",
    "m2=pd.merge(m1,pau,on=[\"gene_id\",\"sample\"])\n",
    "final=pd.merge(m2,md_fil_p,on=\"sample\",how='right')\n",
    "final=final[final.rpkm_pro>1]\n",
    "len(final)\n",
    "final.head()"
   ]
  },
  {
   "cell_type": "markdown",
   "metadata": {},
   "source": [
    "# wilcox test"
   ]
  },
  {
   "cell_type": "code",
   "execution_count": 49,
   "metadata": {},
   "outputs": [
    {
     "data": {
      "text/html": [
       "<div>\n",
       "<style scoped>\n",
       "    .dataframe tbody tr th:only-of-type {\n",
       "        vertical-align: middle;\n",
       "    }\n",
       "\n",
       "    .dataframe tbody tr th {\n",
       "        vertical-align: top;\n",
       "    }\n",
       "\n",
       "    .dataframe thead th {\n",
       "        text-align: right;\n",
       "    }\n",
       "</style>\n",
       "<table border=\"1\" class=\"dataframe\">\n",
       "  <thead>\n",
       "    <tr style=\"text-align: right;\">\n",
       "      <th></th>\n",
       "      <th>gene_id</th>\n",
       "      <th>pvalue</th>\n",
       "      <th>pau_a</th>\n",
       "      <th>pau_b</th>\n",
       "    </tr>\n",
       "  </thead>\n",
       "  <tbody>\n",
       "    <tr>\n",
       "      <th>0</th>\n",
       "      <td>ENSG00000134317.18</td>\n",
       "      <td>0.001134</td>\n",
       "      <td>1.386422</td>\n",
       "      <td>1.030961</td>\n",
       "    </tr>\n",
       "    <tr>\n",
       "      <th>1</th>\n",
       "      <td>ENSG00000106261.17</td>\n",
       "      <td>0.014398</td>\n",
       "      <td>1.619439</td>\n",
       "      <td>1.290808</td>\n",
       "    </tr>\n",
       "    <tr>\n",
       "      <th>2</th>\n",
       "      <td>ENSG00000283761.1</td>\n",
       "      <td>0.987734</td>\n",
       "      <td>0.798599</td>\n",
       "      <td>0.731869</td>\n",
       "    </tr>\n",
       "    <tr>\n",
       "      <th>3</th>\n",
       "      <td>ENSG00000166997.8</td>\n",
       "      <td>0.626381</td>\n",
       "      <td>1.089880</td>\n",
       "      <td>1.096490</td>\n",
       "    </tr>\n",
       "    <tr>\n",
       "      <th>4</th>\n",
       "      <td>ENSG00000214309.5</td>\n",
       "      <td>0.832945</td>\n",
       "      <td>2.416971</td>\n",
       "      <td>2.510632</td>\n",
       "    </tr>\n",
       "  </tbody>\n",
       "</table>\n",
       "</div>"
      ],
      "text/plain": [
       "              gene_id    pvalue     pau_a     pau_b\n",
       "0  ENSG00000134317.18  0.001134  1.386422  1.030961\n",
       "1  ENSG00000106261.17  0.014398  1.619439  1.290808\n",
       "2   ENSG00000283761.1  0.987734  0.798599  0.731869\n",
       "3   ENSG00000166997.8  0.626381  1.089880  1.096490\n",
       "4   ENSG00000214309.5  0.832945  2.416971  2.510632"
      ]
     },
     "execution_count": 49,
     "metadata": {},
     "output_type": "execute_result"
    }
   ],
   "source": [
    "sta_res=[]\n",
    "for i in t_exon_g_l['gene_id'].values:\n",
    "    pau_b=final[(final.gene_id==i) & (final[\"period.abbre.abbre\"]==\"Before birth\")].pau\n",
    "    pau_a=final[(final.gene_id==i) & (final[\"period.abbre.abbre\"]==\"After birth\")].pau\n",
    "    sta_res.append([i,ss.mannwhitneyu(pau_b,pau_a,use_continuity=True).pvalue,pau_a.median(),pau_b.median()])\n",
    "\n",
    "sta_res=pd.DataFrame(sta_res,columns=[\"gene_id\",\"pvalue\",\"pau_a\",\"pau_b\"])\n",
    "sta_res.head()"
   ]
  },
  {
   "cell_type": "markdown",
   "metadata": {},
   "source": [
    "# write to file"
   ]
  },
  {
   "cell_type": "code",
   "execution_count": 50,
   "metadata": {},
   "outputs": [],
   "source": [
    "sta_res.to_csv(\"/home/user/data2/lit/project/ZNF271/02-APA/output/final_res.txt\",sep='\\t',header=True,index=0)"
   ]
  },
  {
   "cell_type": "code",
   "execution_count": 4,
   "metadata": {},
   "outputs": [
    {
     "data": {
      "text/plain": [
       "0.13291945818531892"
      ]
     },
     "execution_count": 4,
     "metadata": {},
     "output_type": "execute_result"
    }
   ],
   "source": [
    "x=[1.83,  0.50,  1.62,  2.48, 1.68, 1.88, 1.55, 3.06, 1.30]\n",
    "y=[0.878, 0.647, 0.598, 2.05, 1.06, 1.29, 1.06, 3.14, 1.29]\n",
    "ss.mannwhitneyu(x,y,use_continuity=True).pvalue"
   ]
  },
  {
   "cell_type": "code",
   "execution_count": 21,
   "metadata": {},
   "outputs": [
    {
     "data": {
      "text/plain": [
       "0.13291945818531892"
      ]
     },
     "execution_count": 21,
     "metadata": {},
     "output_type": "execute_result"
    }
   ],
   "source": [
    "def _mwu_choose_method(n1, n2, xy, method):\n",
    "    \"\"\"Choose method 'asymptotic' or 'exact' depending on input size, ties\"\"\"\n",
    "\n",
    "    # if both inputs are large, asymptotic is OK\n",
    "    if n1 >= 50 or n2 >= 50:\n",
    "        return \"asymptotic\"\n",
    "\n",
    "    # if there are any ties, asymptotic is preferred\n",
    "    if np.apply_along_axis(_tie_check, -1, xy).any():\n",
    "        return \"asymptotic\"\n",
    "\n",
    "    return \"exact\"\n",
    "\n",
    "x=[1.83,  0.50,  1.62,  2.48, 1.68, 1.88, 1.55, 3.06, 1.30]\n",
    "y=[0.878, 0.647, 0.598, 2.05, 1.06, 1.29, 1.06, 3.14, 1.29]\n",
    "ss.mannwhitneyu(x,y,use_continuity=True).pvalue"
   ]
  }
 ],
 "metadata": {
  "kernelspec": {
   "display_name": "Python 3.9.7 ('base')",
   "language": "python",
   "name": "python3"
  },
  "language_info": {
   "codemirror_mode": {
    "name": "ipython",
    "version": 3
   },
   "file_extension": ".py",
   "mimetype": "text/x-python",
   "name": "python",
   "nbconvert_exporter": "python",
   "pygments_lexer": "ipython3",
   "version": "3.9.12"
  },
  "orig_nbformat": 4,
  "vscode": {
   "interpreter": {
    "hash": "1e3ad77942fdef4621b0be490c85b75e1ae7b38543357fd83bce7958fcda298c"
   }
  }
 },
 "nbformat": 4,
 "nbformat_minor": 2
}
