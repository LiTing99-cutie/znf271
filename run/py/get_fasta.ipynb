{
 "cells": [
  {
   "cell_type": "code",
   "execution_count": 120,
   "id": "980addeb",
   "metadata": {},
   "outputs": [],
   "source": [
    "import requests, sys\n",
    "import pandas as pd\n",
    "import os"
   ]
  },
  {
   "cell_type": "code",
   "execution_count": 121,
   "id": "95969040",
   "metadata": {},
   "outputs": [
    {
     "data": {
      "text/plain": [
       "['ENSG00000286619.1',\n",
       " 'ENSG00000225265.2',\n",
       " 'ENSG00000234171.5',\n",
       " 'ENSG00000288831.2',\n",
       " 'ENSG00000230487.9',\n",
       " 'ENSG00000225792.3',\n",
       " 'ENSG00000225706.3',\n",
       " 'ENSG00000232656.10',\n",
       " 'ENSG00000248008.5',\n",
       " 'ENSG00000259642.2',\n",
       " 'ENSG00000260807.7',\n",
       " 'ENSG00000226137.5',\n",
       " 'ENSG00000257267.5',\n",
       " 'ENSG00000267106.9',\n",
       " 'ENSG00000267260.4',\n",
       " 'ENSG00000226328.8']"
      ]
     },
     "execution_count": 121,
     "metadata": {},
     "output_type": "execute_result"
    }
   ],
   "source": [
    "list=pd.read_csv(\"/Users/katherine/to_predict_gene_id.txt\",header=None)\n",
    "list=list.iloc[:,0].tolist()\n",
    "list"
   ]
  },
  {
   "cell_type": "code",
   "execution_count": 122,
   "id": "10a67c21",
   "metadata": {},
   "outputs": [
    {
     "name": "stdout",
     "output_type": "stream",
     "text": [
      "{'releases': [107]}\n"
     ]
    }
   ],
   "source": [
    "# server = \"https://rest.ensembl.org\"\n",
    "server = \"https://Jul2022.rest.ensembl.org\"\n",
    "ext = \"/info/data/?\"\n",
    " \n",
    "r = requests.get(server+ext, headers={ \"Content-Type\" : \"application/json\"})\n",
    " \n",
    "if not r.ok:\n",
    "  r.raise_for_status()\n",
    "  sys.exit()\n",
    " \n",
    "decoded = r.json()\n",
    "print(repr(decoded))"
   ]
  },
  {
   "cell_type": "code",
   "execution_count": 123,
   "id": "f8c0bb6c",
   "metadata": {},
   "outputs": [],
   "source": [
    "path=\"/Users/katherine/project/ZNF271/pa_molecular_mechanism/cds/cdna/\"\n",
    "for gene in list:\n",
    "    prefix=os.path.splitext(gene)[0]\n",
    "    server = \"https://Jul2022.rest.ensembl.org\"\n",
    "    ext = \"/sequence/id/\"+prefix+\"?type=cdna;multiple_sequences=1\"\n",
    "\n",
    "    r = requests.get(server+ext, headers={ \"Content-Type\" : \"text/x-fasta\"})\n",
    "\n",
    "    if not r.ok:\n",
    "      r.raise_for_status()\n",
    "      sys.exit()\n",
    "\n",
    "\n",
    "    # print(r.text)\n",
    "    r.text\n",
    "\n",
    "    fo = open(path+gene+\".fa\", \"w\")\n",
    "    fo.write(r.text)\n",
    "    fo.close()"
   ]
  }
 ],
 "metadata": {
  "kernelspec": {
   "display_name": "Python 3 (ipykernel)",
   "language": "python",
   "name": "python3"
  },
  "language_info": {
   "codemirror_mode": {
    "name": "ipython",
    "version": 3
   },
   "file_extension": ".py",
   "mimetype": "text/x-python",
   "name": "python",
   "nbconvert_exporter": "python",
   "pygments_lexer": "ipython3",
   "version": "3.9.7"
  }
 },
 "nbformat": 4,
 "nbformat_minor": 5
}
