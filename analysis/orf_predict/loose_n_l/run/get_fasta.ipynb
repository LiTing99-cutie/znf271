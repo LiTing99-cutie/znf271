{
 "cells": [
  {
   "cell_type": "code",
   "execution_count": 1,
   "id": "980addeb",
   "metadata": {},
   "outputs": [],
   "source": [
    "import requests, sys\n",
    "import pandas as pd\n",
    "import os"
   ]
  },
  {
   "cell_type": "code",
   "execution_count": 2,
   "id": "95969040",
   "metadata": {},
   "outputs": [
    {
     "data": {
      "text/plain": [
       "['ENSG00000227372.12',\n",
       " 'ENSG00000225265.2',\n",
       " 'ENSG00000288831.2',\n",
       " 'ENSG00000242808.12',\n",
       " 'ENSG00000230487.9',\n",
       " 'ENSG00000232656.10',\n",
       " 'ENSG00000257621.9',\n",
       " 'ENSG00000257267.5',\n",
       " 'ENSG00000196381.12',\n",
       " 'ENSG00000225470.9']"
      ]
     },
     "execution_count": 2,
     "metadata": {},
     "output_type": "execute_result"
    }
   ],
   "source": [
    "list=pd.read_csv(\"/home/user/data2/lit/project/ZNF271/02-APA-1/analysis/orf_predict/loose_n_l/to_predict_gene_id.txt\",header=None)\n",
    "list=list.iloc[:,0].tolist()\n",
    "list"
   ]
  },
  {
   "cell_type": "code",
   "execution_count": 3,
   "id": "10a67c21",
   "metadata": {},
   "outputs": [
    {
     "name": "stdout",
     "output_type": "stream",
     "text": [
      "{'releases': [107]}\n"
     ]
    }
   ],
   "source": [
    "# server = \"https://rest.ensembl.org\"\n",
    "server = \"https://Jul2022.rest.ensembl.org\"\n",
    "ext = \"/info/data/?\"\n",
    " \n",
    "r = requests.get(server+ext, headers={ \"Content-Type\" : \"application/json\"})\n",
    " \n",
    "if not r.ok:\n",
    "  r.raise_for_status()\n",
    "  sys.exit()\n",
    " \n",
    "decoded = r.json()\n",
    "print(repr(decoded))"
   ]
  },
  {
   "cell_type": "code",
   "execution_count": 4,
   "id": "f8c0bb6c",
   "metadata": {},
   "outputs": [],
   "source": [
    "path=\"/home/user/data2/lit/project/ZNF271/02-APA-1/analysis/orf_predict/loose_n_l/cdna/\"\n",
    "for gene in list:\n",
    "    prefix=os.path.splitext(gene)[0]\n",
    "    server = \"https://Jul2022.rest.ensembl.org\"\n",
    "    ext = \"/sequence/id/\"+prefix+\"?type=cdna;multiple_sequences=1\"\n",
    "\n",
    "    r = requests.get(server+ext, headers={ \"Content-Type\" : \"text/x-fasta\"})\n",
    "\n",
    "    if not r.ok:\n",
    "      r.raise_for_status()\n",
    "      sys.exit()\n",
    "\n",
    "\n",
    "    # print(r.text)\n",
    "    r.text\n",
    "\n",
    "    fo = open(path+gene+\".fa\", \"w\")\n",
    "    fo.write(r.text)\n",
    "    fo.close()"
   ]
  }
 ],
 "metadata": {
  "kernelspec": {
   "display_name": "Python 3.9.12 ('base')",
   "language": "python",
   "name": "python3"
  },
  "language_info": {
   "codemirror_mode": {
    "name": "ipython",
    "version": 3
   },
   "file_extension": ".py",
   "mimetype": "text/x-python",
   "name": "python",
   "nbconvert_exporter": "python",
   "pygments_lexer": "ipython3",
   "version": "3.9.12 (main, Apr  5 2022, 06:56:58) \n[GCC 7.5.0]"
  },
  "vscode": {
   "interpreter": {
    "hash": "1e3ad77942fdef4621b0be490c85b75e1ae7b38543357fd83bce7958fcda298c"
   }
  }
 },
 "nbformat": 4,
 "nbformat_minor": 5
}
