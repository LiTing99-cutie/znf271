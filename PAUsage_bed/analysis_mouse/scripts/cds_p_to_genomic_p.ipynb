{
 "cells": [
  {
   "cell_type": "code",
   "execution_count": 1,
   "id": "3f4e7e66",
   "metadata": {},
   "outputs": [],
   "source": [
    "import requests, sys\n",
    "import pandas as pd\n",
    "import os\n",
    "from optparse import OptionParser"
   ]
  },
  {
   "cell_type": "code",
   "execution_count": null,
   "id": "57dd8137",
   "metadata": {},
   "outputs": [],
   "source": [
    "# Parse command line arguments\n",
    "parser = OptionParser()\n",
    "parser.add_option(\"-a\", \"--archive\", dest=\"archive_name\", help=\"archive monthYear\",default='Jul2022')\n",
    "parser.add_option(\"-s\", \"--species\", dest=\"species_name\", help=\"species name or alias\",default='homo_sapiens')\n",
    "(options, args) = parser.parse_args(args=[]) \n",
    "print(options.archive_name)"
   ]
  },
  {
   "cell_type": "code",
   "execution_count": null,
   "id": "ecd381d2",
   "metadata": {},
   "outputs": [],
   "source": [
    "cdna_co=pd.read_csv(\"/home/user/data2/lit/project/ZNF271/02-APA-1/PAUsage_bed/output/predict/lncRNA_orf_prot_co_filter.txt\",sep='\\t',header=None)\n",
    "cdna_co"
   ]
  },
  {
   "cell_type": "code",
   "execution_count": null,
   "id": "39100cdd",
   "metadata": {},
   "outputs": [],
   "source": [
    "server = \"https://\"+options.archive_name+\".rest.ensembl.org\"\n",
    "f=open('lncRNA_orf_prot_co_filter_genomic.txt','w')\n",
    "print(\"transcript_id\",'\\t',\"start\",'\\t',\"end\",'\\t',\"length\",'\\t',\"strand\",file=f)\n",
    "for i in range(len(cdna_co.iloc[:,0])):\n",
    "    ext = \"/map/cdna/\"+cdna_co.iloc[:,0][i]+\"/\"+str(cdna_co.iloc[:,2][i])+\"..\"+str(cdna_co.iloc[:,3][i])+\"?species=\"+options.species_name\n",
    "    r = requests.get(server+ext, headers={ \"Content-Type\" : \"application/json\"})\n",
    "\n",
    "    if not r.ok:\n",
    "      r.raise_for_status()\n",
    "      sys.exit()\n",
    "\n",
    "    decoded = r.json()\n",
    "    \n",
    "    list=[]\n",
    "    for key in range(len(decoded['mappings'])):  \n",
    "        list.append(decoded['mappings'][key]['start'])\n",
    "        list.append(decoded['mappings'][key]['end'])\n",
    "    print(cdna_co.iloc[:,1][i],'\\t',min(list),'\\t',max(list),cdna_co.iloc[:,4][i],'\\t',cdna_co.iloc[:,5][i],file=f)\n",
    "f.close()"
   ]
  }
 ],
 "metadata": {
  "kernelspec": {
   "display_name": "Python 3.9.12 ('base')",
   "language": "python",
   "name": "python3"
  },
  "language_info": {
   "codemirror_mode": {
    "name": "ipython",
    "version": 3
   },
   "file_extension": ".py",
   "mimetype": "text/x-python",
   "name": "python",
   "nbconvert_exporter": "python",
   "pygments_lexer": "ipython3",
   "version": "3.9.12"
  },
  "vscode": {
   "interpreter": {
    "hash": "1e3ad77942fdef4621b0be490c85b75e1ae7b38543357fd83bce7958fcda298c"
   }
  }
 },
 "nbformat": 4,
 "nbformat_minor": 5
}
