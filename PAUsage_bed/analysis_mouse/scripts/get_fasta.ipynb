{
 "cells": [
  {
   "cell_type": "code",
   "execution_count": 1,
   "id": "980addeb",
   "metadata": {},
   "outputs": [],
   "source": [
    "import requests, sys\n",
    "import pandas as pd\n",
    "import os\n",
    "from optparse import OptionParser"
   ]
  },
  {
   "cell_type": "code",
   "execution_count": 5,
   "id": "87464bf8",
   "metadata": {},
   "outputs": [],
   "source": [
    "# Parse command line arguments\n",
    "parser = OptionParser()\n",
    "parser.add_option(\"-i\", \"--input\", dest=\"input_file\", help=\"gene_id to predict\",default='/home/user/data2/lit/project/ZNF271/02-APA-1/PAUsage_bed/output/predict/to_predict_gene_id.txt')\n",
    "parser.add_option(\"-o\", \"--output\", dest=\"output_path\", help=\"Output file path\",default='/home/user/data2/lit/project/ZNF271/02-APA-1/PAUsage_bed/output/predict/cdna/')\n",
    "parser.add_option(\"-a\", \"--archive\", dest=\"archive_name\", help=\"archive monthYear\",default='Jul2022')\n",
    "parser.add_option(\"-s\", \"--species\", dest=\"species_name\", help=\"species name or alias\",default='homo_sapiens')\n",
    "(options, args) = parser.parse_args()\n",
    "print(options.archive_name)"
   ]
  },
  {
   "cell_type": "code",
   "execution_count": null,
   "id": "95969040",
   "metadata": {},
   "outputs": [],
   "source": [
    "list=pd.read_csv(options.input_file,header=None)\n",
    "list=list.iloc[:,0].tolist()\n",
    "list"
   ]
  },
  {
   "cell_type": "code",
   "execution_count": null,
   "id": "10a67c21",
   "metadata": {},
   "outputs": [],
   "source": [
    "server = \"https://\"+options.archive_name+\".rest.ensembl.org\"\n",
    "ext = \"/info/data/?\"\n",
    " \n",
    "r = requests.get(server+ext, headers={ \"Content-Type\" : \"application/json\"})\n",
    " \n",
    "if not r.ok:\n",
    "  r.raise_for_status()\n",
    "  sys.exit()\n",
    " \n",
    "decoded = r.json()\n",
    "print(repr(decoded))"
   ]
  },
  {
   "cell_type": "code",
   "execution_count": null,
   "id": "f8c0bb6c",
   "metadata": {},
   "outputs": [],
   "source": [
    "if not os.path.exists(options.output_path):\n",
    "  os.makedirs(options.output_path)\n",
    "for gene in list:\n",
    "    prefix=os.path.splitext(gene)[0]\n",
    "    ext = \"/sequence/id/\"+prefix+\"?species=\"+options.species_name+\";type=cdna;multiple_sequences=1\"\n",
    "\n",
    "    r = requests.get(server+ext, headers={ \"Content-Type\" : \"text/x-fasta\"})\n",
    "\n",
    "    if not r.ok:\n",
    "      r.raise_for_status()\n",
    "      sys.exit()\n",
    "\n",
    "\n",
    "    # print(r.text)\n",
    "    r.text\n",
    "\n",
    "    fo = open(options.output_path+\"/\"+gene+\".fa\", \"w\")\n",
    "    fo.write(r.text)\n",
    "    fo.close()"
   ]
  }
 ],
 "metadata": {
  "kernelspec": {
   "display_name": "Python 3.9.12 ('base')",
   "language": "python",
   "name": "python3"
  },
  "language_info": {
   "codemirror_mode": {
    "name": "ipython",
    "version": 3
   },
   "file_extension": ".py",
   "mimetype": "text/x-python",
   "name": "python",
   "nbconvert_exporter": "python",
   "pygments_lexer": "ipython3",
   "version": "3.9.12"
  },
  "vscode": {
   "interpreter": {
    "hash": "1e3ad77942fdef4621b0be490c85b75e1ae7b38543357fd83bce7958fcda298c"
   }
  }
 },
 "nbformat": 4,
 "nbformat_minor": 5
}
